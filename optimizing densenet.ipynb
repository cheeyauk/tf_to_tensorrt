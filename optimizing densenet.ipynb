{
 "cells": [
  {
   "cell_type": "markdown",
   "metadata": {},
   "source": [
    "# TensorRT for DenseNet\n",
    "\n",
    "This is a follow up notebook for optimizing_resnet, and repeats the experiment on denseNet. The DenseNet model is trained on Breast Cancer data that won the recent HumanVsAI hackathon.\n",
    "\n",
    "DenseNet is State-of-The-Art network that require much fewer parameters to achieve the same performance as a traditional CNN, through feature reuse. As we can see below, each layer has access to feature maps from all previous layers, thus reducing generation of redundang feature maps."
   ]
  },
  {
   "cell_type": "markdown",
   "metadata": {},
   "source": [
    "![DenseNet Architecture](https://cdn-images-1.medium.com/max/600/1*GeK21UAbk4lEnNHhW_dgQA.png)\n",
    "\n",
    "Image is taken from [link](https://towardsdatascience.com/understanding-and-visualizing-densenets-7f688092391a) Please read here for more information"
   ]
  },
  {
   "cell_type": "code",
   "execution_count": 1,
   "metadata": {},
   "outputs": [
    {
     "name": "stderr",
     "output_type": "stream",
     "text": [
      "Using TensorFlow backend.\n",
      "WARNING: Logging before flag parsing goes to stderr.\n",
      "W0621 00:01:16.570926 140012050593536 deprecation_wrapper.py:118] From /home/cheeyau/anaconda3/envs/tensorrt/lib/python3.6/site-packages/tensorflow/__init__.py:95: The name tf.AUTO_REUSE is deprecated. Please use tf.compat.v1.AUTO_REUSE instead.\n",
      "\n",
      "W0621 00:01:16.572038 140012050593536 deprecation_wrapper.py:118] From /home/cheeyau/anaconda3/envs/tensorrt/lib/python3.6/site-packages/tensorflow/__init__.py:95: The name tf.AttrValue is deprecated. Please use tf.compat.v1.AttrValue instead.\n",
      "\n",
      "W0621 00:01:16.572964 140012050593536 deprecation_wrapper.py:118] From /home/cheeyau/anaconda3/envs/tensorrt/lib/python3.6/site-packages/tensorflow/__init__.py:95: The name tf.COMPILER_VERSION is deprecated. Please use tf.version.COMPILER_VERSION instead.\n",
      "\n",
      "W0621 00:01:16.573601 140012050593536 deprecation_wrapper.py:118] From /home/cheeyau/anaconda3/envs/tensorrt/lib/python3.6/site-packages/tensorflow/__init__.py:95: The name tf.CXX11_ABI_FLAG is deprecated. Please use tf.sysconfig.CXX11_ABI_FLAG instead.\n",
      "\n",
      "W0621 00:01:16.575031 140012050593536 deprecation_wrapper.py:118] From /home/cheeyau/anaconda3/envs/tensorrt/lib/python3.6/site-packages/tensorflow/__init__.py:95: The name tf.ConditionalAccumulator is deprecated. Please use tf.compat.v1.ConditionalAccumulator instead.\n",
      "\n"
     ]
    }
   ],
   "source": [
    "# Import the libaries, we will start from Keras\n",
    "import keras\n",
    "from keras import backend as K\n",
    "import time\n",
    "import numpy as np\n",
    "import os\n",
    "from trt_utils import FrozenGraph,TrtModel, TfModel, tf_to_trt_graph, write_graph_to_file\n",
    "\n",
    "currdir = os.getcwd()"
   ]
  },
  {
   "cell_type": "code",
   "execution_count": 2,
   "metadata": {},
   "outputs": [],
   "source": [
    "os.environ[\"CUDA_VISIBLE_DEVICES\"]=\"0\""
   ]
  },
  {
   "cell_type": "markdown",
   "metadata": {},
   "source": [
    "## Keras Inference"
   ]
  },
  {
   "cell_type": "code",
   "execution_count": 3,
   "metadata": {},
   "outputs": [],
   "source": [
    "from keras.models import load_model"
   ]
  },
  {
   "cell_type": "code",
   "execution_count": 4,
   "metadata": {},
   "outputs": [
    {
     "name": "stderr",
     "output_type": "stream",
     "text": [
      "W0621 00:01:20.861027 140012050593536 deprecation_wrapper.py:118] From /home/cheeyau/anaconda3/envs/tensorrt/lib/python3.6/site-packages/keras/backend/tensorflow_backend.py:1834: The name tf.nn.fused_batch_norm is deprecated. Please use tf.compat.v1.nn.fused_batch_norm instead.\n",
      "\n",
      "W0621 00:01:20.931249 140012050593536 deprecation_wrapper.py:118] From /home/cheeyau/anaconda3/envs/tensorrt/lib/python3.6/site-packages/keras/backend/tensorflow_backend.py:3976: The name tf.nn.max_pool is deprecated. Please use tf.nn.max_pool2d instead.\n",
      "\n",
      "W0621 00:01:21.998417 140012050593536 deprecation_wrapper.py:118] From /home/cheeyau/anaconda3/envs/tensorrt/lib/python3.6/site-packages/keras/backend/tensorflow_backend.py:3980: The name tf.nn.avg_pool is deprecated. Please use tf.nn.avg_pool2d instead.\n",
      "\n",
      "W0621 00:01:45.146929 140012050593536 deprecation_wrapper.py:118] From /home/cheeyau/anaconda3/envs/tensorrt/lib/python3.6/site-packages/keras/optimizers.py:790: The name tf.train.Optimizer is deprecated. Please use tf.compat.v1.train.Optimizer instead.\n",
      "\n",
      "W0621 00:01:45.157073 140012050593536 deprecation.py:323] From /home/cheeyau/anaconda3/envs/tensorrt/lib/python3.6/site-packages/tensorflow_core/python/ops/nn_impl.py:182: add_dispatch_support.<locals>.wrapper (from tensorflow.python.ops.array_ops) is deprecated and will be removed in a future version.\n",
      "Instructions for updating:\n",
      "Use tf.where in 2.0, which has the same broadcast rule as np.where\n"
     ]
    }
   ],
   "source": [
    "model = load_model(\"densenet.h5\")\n",
    "batch_size = 128 # this needs to be specified in TensorRT inference model\n",
    "\n",
    "# Generate test samples \n",
    "img_shape = (224, 224, 3)\n",
    "x_test = np.random.random_sample((batch_size,img_shape[0], img_shape[1], img_shape[2]))\n"
   ]
  },
  {
   "cell_type": "code",
   "execution_count": 5,
   "metadata": {},
   "outputs": [
    {
     "name": "stdout",
     "output_type": "stream",
     "text": [
      "Keras time : 0.9828753471374512 s\n"
     ]
    }
   ],
   "source": [
    "y_keras = model.predict(x_test) # initialize the model first, don't take first predict into account\n",
    "start = time.time()\n",
    "y_keras = model.predict(x_test)\n",
    "end = time.time()\n",
    "Keras_time = end - start\n",
    "print('Keras time : {0} s'.format(Keras_time) )"
   ]
  },
  {
   "cell_type": "markdown",
   "metadata": {},
   "source": [
    "## Tensorflow for Inference"
   ]
  },
  {
   "cell_type": "markdown",
   "metadata": {},
   "source": [
    "Converting Keras to Tensorflow"
   ]
  },
  {
   "cell_type": "code",
   "execution_count": 6,
   "metadata": {},
   "outputs": [
    {
     "name": "stderr",
     "output_type": "stream",
     "text": [
      "W0621 00:02:27.787399 140012050593536 deprecation.py:323] From /home/cheeyau/Git/Personal/TensorRT Next Extended/trt_utils.py:37: convert_variables_to_constants (from tensorflow.python.framework.graph_util_impl) is deprecated and will be removed in a future version.\n",
      "Instructions for updating:\n",
      "Use `tf.compat.v1.graph_util.convert_variables_to_constants`\n",
      "W0621 00:02:27.788107 140012050593536 deprecation.py:323] From /home/cheeyau/anaconda3/envs/tensorrt/lib/python3.6/site-packages/tensorflow_core/python/framework/graph_util_impl.py:270: extract_sub_graph (from tensorflow.python.framework.graph_util_impl) is deprecated and will be removed in a future version.\n",
      "Instructions for updating:\n",
      "Use `tf.compat.v1.graph_util.extract_sub_graph`\n",
      "W0621 00:02:31.002372 140012050593536 deprecation.py:323] From /home/cheeyau/Git/Personal/TensorRT Next Extended/trt_utils.py:38: remove_training_nodes (from tensorflow.python.framework.graph_util_impl) is deprecated and will be removed in a future version.\n",
      "Instructions for updating:\n",
      "Use `tf.compat.v1.graph_util.remove_training_nodes`\n",
      "W0621 00:02:31.533181 140012050593536 deprecation_wrapper.py:118] From /home/cheeyau/Git/Personal/TensorRT Next Extended/trt_utils.py:23: The name tf.gfile.GFile is deprecated. Please use tf.io.gfile.GFile instead.\n",
      "\n"
     ]
    }
   ],
   "source": [
    "frozen_graph = FrozenGraph(model, img_shape)\n",
    "\n",
    "# Save the frozen file for reference\n",
    "write_graph_to_file('dnet.pb',frozen_graph.frozen,currdir)"
   ]
  },
  {
   "cell_type": "code",
   "execution_count": 7,
   "metadata": {},
   "outputs": [
    {
     "name": "stdout",
     "output_type": "stream",
     "text": [
      "number of nodes for tf model: 1534\n"
     ]
    }
   ],
   "source": [
    "print('number of nodes for tf model: {0}'.format(len(frozen_graph.frozen.node)))"
   ]
  },
  {
   "cell_type": "code",
   "execution_count": 8,
   "metadata": {},
   "outputs": [],
   "source": [
    "tf_model = TfModel(frozen_graph.frozen,frozen_graph.x_name,frozen_graph.y_name)"
   ]
  },
  {
   "cell_type": "code",
   "execution_count": 9,
   "metadata": {},
   "outputs": [
    {
     "data": {
      "text/plain": [
       "(['image_tensor_x'], ['model_1/dense_2/Softmax'])"
      ]
     },
     "execution_count": 9,
     "metadata": {},
     "output_type": "execute_result"
    }
   ],
   "source": [
    "frozen_graph.x_name,frozen_graph.y_name"
   ]
  },
  {
   "cell_type": "code",
   "execution_count": 10,
   "metadata": {},
   "outputs": [],
   "source": [
    "#tf_model = TfEngine(frozen_graph)\n",
    "y_tf = tf_model.infer(x_test)\n",
    "t0 = time.time() \n",
    "y_tf = tf_model.infer(x_test)\n",
    "t1 = time.time()\n",
    "tf_time = t1-t0"
   ]
  },
  {
   "cell_type": "code",
   "execution_count": 11,
   "metadata": {},
   "outputs": [
    {
     "name": "stdout",
     "output_type": "stream",
     "text": [
      "Tensorflow time : 0.9359209537506104 s\n"
     ]
    }
   ],
   "source": [
    "print('Tensorflow time : {0} s'.format(tf_time) )"
   ]
  },
  {
   "cell_type": "markdown",
   "metadata": {},
   "source": [
    "## TensorRT"
   ]
  },
  {
   "cell_type": "markdown",
   "metadata": {},
   "source": [
    "Convert Tensorflow to tensorRT"
   ]
  },
  {
   "cell_type": "code",
   "execution_count": 12,
   "metadata": {},
   "outputs": [],
   "source": [
    "imagenet_classes = 2\n",
    "precision = \"FP16\"\n",
    "x_name = ['image_tensor_x']\n",
    "y_name =['model_1/dense_2/Softmax']"
   ]
  },
  {
   "cell_type": "code",
   "execution_count": 13,
   "metadata": {},
   "outputs": [],
   "source": [
    "tftrt_graph_fp16 = tf_to_trt_graph(frozen_graph.frozen, y_name, batch_size, precision)"
   ]
  },
  {
   "cell_type": "code",
   "execution_count": 16,
   "metadata": {},
   "outputs": [],
   "source": [
    "write_graph_to_file('dnet_fp16.pb',tftrt_graph_fp16,currdir)"
   ]
  },
  {
   "cell_type": "code",
   "execution_count": 17,
   "metadata": {},
   "outputs": [],
   "source": [
    "trt_model = TrtModel(tftrt_graph_fp16, batch_size,x_name,y_name, imagenet_classes)"
   ]
  },
  {
   "cell_type": "code",
   "execution_count": 18,
   "metadata": {},
   "outputs": [
    {
     "name": "stdout",
     "output_type": "stream",
     "text": [
      "number of nodes for trt model: 3\n"
     ]
    }
   ],
   "source": [
    "print('number of nodes for trt model: {0}'.format(len(tftrt_graph_fp16.node)))"
   ]
  },
  {
   "cell_type": "code",
   "execution_count": 19,
   "metadata": {},
   "outputs": [],
   "source": [
    "y_tftrt = trt_model.infer(x_test)\n",
    "t0 = time.time() \n",
    "y_tftrt = trt_model.infer(x_test)\n",
    "t1 = time.time()\n",
    "trt_time = t1-t0"
   ]
  },
  {
   "cell_type": "code",
   "execution_count": 20,
   "metadata": {},
   "outputs": [
    {
     "name": "stdout",
     "output_type": "stream",
     "text": [
      "TensorRT time : 0.5131697654724121 s\n"
     ]
    }
   ],
   "source": [
    "print('TensorRT time : {0} s'.format(trt_time) )"
   ]
  },
  {
   "cell_type": "code",
   "execution_count": 21,
   "metadata": {},
   "outputs": [
    {
     "name": "stdout",
     "output_type": "stream",
     "text": [
      "Keras time : 0.9828753471374512 s\n",
      "Tensorflow time : 0.9359209537506104 s\n",
      "TensorRT time : 0.5131697654724121 s\n"
     ]
    }
   ],
   "source": [
    "print('Keras time : {0} s'.format(Keras_time) )\n",
    "print('Tensorflow time : {0} s'.format(tf_time) )\n",
    "print('TensorRT time : {0} s'.format(trt_time) )"
   ]
  },
  {
   "cell_type": "markdown",
   "metadata": {},
   "source": [
    "Comparing results"
   ]
  },
  {
   "cell_type": "code",
   "execution_count": 22,
   "metadata": {},
   "outputs": [],
   "source": [
    "def calculateErrorRate(result, ans):\n",
    "    num_tests = ans.shape[0]\n",
    "    error = 0\n",
    "    for i in range(0, num_tests):\n",
    "        a = np.argmax(ans[i])\n",
    "        r = np.argmax(result[i])\n",
    "        if (a != r) : error += 1\n",
    "    \n",
    "    error_rate = error/num_tests\n",
    "    return error_rate"
   ]
  },
  {
   "cell_type": "code",
   "execution_count": 23,
   "metadata": {},
   "outputs": [
    {
     "data": {
      "text/plain": [
       "0.0"
      ]
     },
     "execution_count": 23,
     "metadata": {},
     "output_type": "execute_result"
    }
   ],
   "source": [
    "calculateErrorRate(y_tftrt,y_tf)"
   ]
  },
  {
   "cell_type": "code",
   "execution_count": null,
   "metadata": {},
   "outputs": [],
   "source": []
  }
 ],
 "metadata": {
  "kernelspec": {
   "display_name": "Python [conda env:tensorrt] *",
   "language": "python",
   "name": "conda-env-tensorrt-py"
  },
  "language_info": {
   "codemirror_mode": {
    "name": "ipython",
    "version": 3
   },
   "file_extension": ".py",
   "mimetype": "text/x-python",
   "name": "python",
   "nbconvert_exporter": "python",
   "pygments_lexer": "ipython3",
   "version": "3.6.7"
  }
 },
 "nbformat": 4,
 "nbformat_minor": 2
}
